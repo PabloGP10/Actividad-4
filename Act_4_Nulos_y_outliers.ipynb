{
  "nbformat": 4,
  "nbformat_minor": 0,
  "metadata": {
    "colab": {
      "provenance": [],
      "include_colab_link": true
    },
    "kernelspec": {
      "name": "python3",
      "display_name": "Python 3"
    },
    "language_info": {
      "name": "python"
    }
  },
  "cells": [
    {
      "cell_type": "markdown",
      "metadata": {
        "id": "view-in-github",
        "colab_type": "text"
      },
      "source": [
        "<a href=\"https://colab.research.google.com/github/PabloGP10/Actividad-4/blob/main/Act_4_Nulos_y_outliers.ipynb\" target=\"_parent\"><img src=\"https://colab.research.google.com/assets/colab-badge.svg\" alt=\"Open In Colab\"/></a>"
      ]
    },
    {
      "cell_type": "code",
      "execution_count": 1,
      "metadata": {
        "id": "SLSmsGwKb0dm"
      },
      "outputs": [],
      "source": [
        "#Importamos las librerias pandas, numpy y matplotlib respectivamente\n",
        "import pandas as pd\n",
        "import numpy as np\n",
        "import matplotlib.pyplot as plt\n"
      ]
    },
    {
      "cell_type": "code",
      "source": [
        "#Cargar archivo csv desde equipo\n",
        "from google.colab import files\n",
        "files.upload()"
      ],
      "metadata": {
        "id": "pjRT3eBZCzIE"
      },
      "execution_count": null,
      "outputs": []
    },
    {
      "cell_type": "code",
      "source": [
        "#cargar desde un archivo .xls sin indice\n",
        "Retailers= pd.read_excel('microretailer_mit_lift_lab_actualizado.xlsx')\n",
        "Retailers.head(10)"
      ],
      "metadata": {
        "id": "P6qDmpHaCz98"
      },
      "execution_count": null,
      "outputs": []
    },
    {
      "cell_type": "code",
      "source": [
        "#indentificar valores nulos por columnas \n",
        "valores_nulos=Retailers.isnull().sum()\n",
        "valores_nulos"
      ],
      "metadata": {
        "id": "r3DzisT6DObW",
        "colab": {
          "base_uri": "https://localhost:8080/"
        },
        "outputId": "88d3e049-eadd-47b9-b0c8-022a0d88a357"
      },
      "execution_count": 5,
      "outputs": [
        {
          "output_type": "execute_result",
          "data": {
            "text/plain": [
              "_record_id                                0\n",
              "_title                                    0\n",
              "_server_updated_at                        0\n",
              "_updated_by                               0\n",
              "_geometry                                 0\n",
              "                                       ... \n",
              "234_willingness_participate_workshop    125\n",
              "318_shopkeeper_name                     249\n",
              "319_shopkeepers_last_name               252\n",
              "236_whatsapp                            255\n",
              "235_email                               283\n",
              "Length: 106, dtype: int64"
            ]
          },
          "metadata": {},
          "execution_count": 5
        }
      ]
    },
    {
      "cell_type": "markdown",
      "source": [
        "**Valores Nulos**"
      ],
      "metadata": {
        "id": "5Z7-zdS2tUIG"
      }
    },
    {
      "cell_type": "code",
      "source": [
        "#indentificar valores nulos por columnas \n",
        "valores_nulos=Retailers.isnull().sum().sum()\n",
        "valores_nulos"
      ],
      "metadata": {
        "id": "m5Y45IfADTTz",
        "colab": {
          "base_uri": "https://localhost:8080/"
        },
        "outputId": "020bbb69-e234-48ad-aaeb-94e7d993db24"
      },
      "execution_count": 6,
      "outputs": [
        {
          "output_type": "execute_result",
          "data": {
            "text/plain": [
              "18171"
            ]
          },
          "metadata": {},
          "execution_count": 6
        }
      ]
    },
    {
      "cell_type": "code",
      "source": [
        "Retailers_Sin_Nulos=Retailers.copy()\n",
        "Retailers_Sin_Nulos=Retailers_Sin_Nulos.fillna(method='bfill')\n",
        "Retailers_Sin_Nulos"
      ],
      "metadata": {
        "id": "XRgj-gWEr6ex"
      },
      "execution_count": null,
      "outputs": []
    },
    {
      "cell_type": "code",
      "source": [
        "#indentificar valores nulos por columnas \n",
        "valores_nulos=Retailers_Sin_Nulos.isnull().sum().sum()\n",
        "valores_nulos"
      ],
      "metadata": {
        "colab": {
          "base_uri": "https://localhost:8080/"
        },
        "id": "AYrhCrciFFiB",
        "outputId": "657dc356-6cb8-4ed1-e563-08d646014969"
      },
      "execution_count": 8,
      "outputs": [
        {
          "output_type": "execute_result",
          "data": {
            "text/plain": [
              "1583"
            ]
          },
          "metadata": {},
          "execution_count": 8
        }
      ]
    },
    {
      "cell_type": "code",
      "source": [
        "Retailers_Sin_Nulos1=Retailers_Sin_Nulos.copy()\n",
        "Retailers_Sin_Nulos1=Retailers_Sin_Nulos1.fillna(method='ffill')\n",
        "Retailers_Sin_Nulos1"
      ],
      "metadata": {
        "id": "gylypi0yrqhQ"
      },
      "execution_count": null,
      "outputs": []
    },
    {
      "cell_type": "code",
      "source": [
        "#indentificar valores nulos por columnas \n",
        "valores_nulos=Retailers_Sin_Nulos1.isnull().sum().sum()\n",
        "valores_nulos"
      ],
      "metadata": {
        "colab": {
          "base_uri": "https://localhost:8080/"
        },
        "id": "S8-r596WrqkT",
        "outputId": "45bc54cd-fbb9-48b3-ec4a-ba48cfe694b6"
      },
      "execution_count": 10,
      "outputs": [
        {
          "output_type": "execute_result",
          "data": {
            "text/plain": [
              "0"
            ]
          },
          "metadata": {},
          "execution_count": 10
        }
      ]
    },
    {
      "cell_type": "code",
      "source": [
        "#indentificar valores nulos por columnas \n",
        "valores_nulos=Retailers_Sin_Nulos1.isnull().sum()\n",
        "valores_nulos.head()"
      ],
      "metadata": {
        "colab": {
          "base_uri": "https://localhost:8080/"
        },
        "id": "HBYpJDCssJ1F",
        "outputId": "265f874c-ab26-4f3f-a0d3-1b143873e3f9"
      },
      "execution_count": 15,
      "outputs": [
        {
          "output_type": "execute_result",
          "data": {
            "text/plain": [
              "_record_id            0\n",
              "_title                0\n",
              "_server_updated_at    0\n",
              "_updated_by           0\n",
              "_geometry             0\n",
              "dtype: int64"
            ]
          },
          "metadata": {},
          "execution_count": 15
        }
      ]
    },
    {
      "cell_type": "code",
      "source": [
        "#convertir a archivo xlsx\n",
        "Retailers_Sin_Nulos1.to_excel(\"microretailer_actualizado.xlsx\")"
      ],
      "metadata": {
        "id": "KXibqNSFtFEH"
      },
      "execution_count": 16,
      "outputs": []
    },
    {
      "cell_type": "code",
      "source": [
        "#descargar archivo filtrado en xlsx\n",
        "from google.colab import files\n",
        "files.download(\"microretailer_actualizado.xlsx\")"
      ],
      "metadata": {
        "id": "g3ldPR1ptL9x",
        "outputId": "3c9ba09e-6c8c-4c13-953d-37cb37df9968",
        "colab": {
          "base_uri": "https://localhost:8080/",
          "height": 17
        }
      },
      "execution_count": null,
      "outputs": [
        {
          "output_type": "display_data",
          "data": {
            "text/plain": [
              "<IPython.core.display.Javascript object>"
            ],
            "application/javascript": [
              "\n",
              "    async function download(id, filename, size) {\n",
              "      if (!google.colab.kernel.accessAllowed) {\n",
              "        return;\n",
              "      }\n",
              "      const div = document.createElement('div');\n",
              "      const label = document.createElement('label');\n",
              "      label.textContent = `Downloading \"${filename}\": `;\n",
              "      div.appendChild(label);\n",
              "      const progress = document.createElement('progress');\n",
              "      progress.max = size;\n",
              "      div.appendChild(progress);\n",
              "      document.body.appendChild(div);\n",
              "\n",
              "      const buffers = [];\n",
              "      let downloaded = 0;\n",
              "\n",
              "      const channel = await google.colab.kernel.comms.open(id);\n",
              "      // Send a message to notify the kernel that we're ready.\n",
              "      channel.send({})\n",
              "\n",
              "      for await (const message of channel.messages) {\n",
              "        // Send a message to notify the kernel that we're ready.\n",
              "        channel.send({})\n",
              "        if (message.buffers) {\n",
              "          for (const buffer of message.buffers) {\n",
              "            buffers.push(buffer);\n",
              "            downloaded += buffer.byteLength;\n",
              "            progress.value = downloaded;\n",
              "          }\n",
              "        }\n",
              "      }\n",
              "      const blob = new Blob(buffers, {type: 'application/binary'});\n",
              "      const a = document.createElement('a');\n",
              "      a.href = window.URL.createObjectURL(blob);\n",
              "      a.download = filename;\n",
              "      div.appendChild(a);\n",
              "      a.click();\n",
              "      div.remove();\n",
              "    }\n",
              "  "
            ]
          },
          "metadata": {}
        },
        {
          "output_type": "display_data",
          "data": {
            "text/plain": [
              "<IPython.core.display.Javascript object>"
            ],
            "application/javascript": [
              "download(\"download_111b4250-c8ae-437f-991e-1038d59e8b9a\", \"Retailers_Sin_Nulos.xlsx\", 106905)"
            ]
          },
          "metadata": {}
        }
      ]
    },
    {
      "cell_type": "markdown",
      "source": [
        "**Outliers**"
      ],
      "metadata": {
        "id": "DMSI7qCatZai"
      }
    },
    {
      "cell_type": "code",
      "source": [
        "Retailers_Filtrado=Retailers_Sin_Nulos1.copy()\n"
      ],
      "metadata": {
        "id": "-SqkDypjsVSG"
      },
      "execution_count": 13,
      "outputs": []
    },
    {
      "cell_type": "code",
      "source": [
        "#Identificamos las variables no numéricas para eliminar columnas incecesarias \n",
        "#Verificamos información del DataFrame\n",
        "Retailers_Filtrado.info(200)"
      ],
      "metadata": {
        "id": "DQ0XdfRMFsp6",
        "colab": {
          "base_uri": "https://localhost:8080/"
        },
        "outputId": "3207492d-d4fd-4412-e1dc-b4e7baa0b6bd"
      },
      "execution_count": 14,
      "outputs": [
        {
          "output_type": "stream",
          "name": "stdout",
          "text": [
            "<class 'pandas.core.frame.DataFrame'>\n",
            "RangeIndex: 330 entries, 0 to 329\n",
            "Data columns (total 106 columns):\n",
            " #    Column                                                      Dtype  \n",
            "---   ------                                                      -----  \n",
            " 0    _record_id                                                  object \n",
            " 1    _title                                                      object \n",
            " 2    _server_updated_at                                          object \n",
            " 3    _updated_by                                                 object \n",
            " 4    _geometry                                                   object \n",
            " 5    _latitude                                                   float64\n",
            " 6    _longitude                                                  float64\n",
            " 7    228_store_name                                              object \n",
            " 8    229_store_picture                                           object \n",
            " 9    232_type_of_store                                           object \n",
            " 10   108_does_the_micro_retailer_has_a_barred_window_            object \n",
            " 11   99_does_the_micro_retailer_exhibits_products_outside_       object \n",
            " 12   102_does_the_micro_retailer_sells_fresh_products_           object \n",
            " 13   97_number_of_customers_in_store                             int64  \n",
            " 14   268_number_fridges                                          float64\n",
            " 15   184_store_devices                                           object \n",
            " 16   104_how_many_shelves_does_the_micro_retailer_have           int64  \n",
            " 17   pictures_of_shelves_if_possible                             object \n",
            " 18   hola_somos_estudiantes_del_tec_de_monterrey_estamos_realiz  object \n",
            " 19   le_comento_que_toda_esta_informacin_es_confidencial         object \n",
            " 20   233_date_establishment                                      object \n",
            " 21   2_current_permanent_employees                               float64\n",
            " 22   4_number_permanent_employees_last_year                      float64\n",
            " 23   5_change_store_space_last_year                              object \n",
            " 24   6_change_employees_average_salary_last_year                 object \n",
            " 25   20_reviews_finances_monthly                                 object \n",
            " 26   49_inventory_records                                        object \n",
            " 27   18_sales_records                                            object \n",
            " 28   155_sales_registers_used_for                                object \n",
            " 29   103_number_own_fridges                                      float64\n",
            " 30   19_tax_id                                                   object \n",
            " 31   145_number_direct_competitors                               float64\n",
            " 32   310_burnout                                                 object \n",
            " 33   24_burnout                                                  float64\n",
            " 34   186_internet_connection                                     object \n",
            " 35   210_sales_channels                                          object \n",
            " 36   189_payment_methods                                         object \n",
            " 37   28_prefered_payment_method                                  object \n",
            " 38   31_different_prices_payment_method                          object \n",
            " 39   269_cash_discount                                           object \n",
            " 40   270_card_extra_charge                                       object \n",
            " 41   271_card_fee                                                object \n",
            " 42   272_card_days_receive_money                                 float64\n",
            " 43   273_platform_extra_charge                                   object \n",
            " 44   274_platform_fee                                            object \n",
            " 45   275_platform_days_receive_money                             float64\n",
            " 46   30_payment_methods_large_purchases                          object \n",
            " 47   214_customer_relationship_tools                             object \n",
            " 48   33_credit_to_customers                                      object \n",
            " 49   276_expected_days_informal_credit                           float64\n",
            " 50   35_interest_rate                                            object \n",
            " 51   36_credit_default_rate                                      float64\n",
            " 52   38_average_margin_profits                                   object \n",
            " 53   193_sales_planning_tools                                    object \n",
            " 54   227_agreement_ecommerce_platforms                           object \n",
            " 55   60_services                                                 object \n",
            " 56   315_frequency_topups                                        float64\n",
            " 57   316_frequency_utility_bills                                 float64\n",
            " 58   317_home_deliveries                                         float64\n",
            " 59   62_frequency_only_services                                  float64\n",
            " 60   78_number_home_deliveries_week                              float64\n",
            " 61   77_delivery_timeslots                                       object \n",
            " 62   79_delivery_vehicle                                         object \n",
            " 63   64_comission_services                                       object \n",
            " 64   66_percentaje_services_income                               object \n",
            " 65   69_why_not_services                                         object \n",
            " 66   311_topups                                                  object \n",
            " 67   312_payment_of_utilities                                    object \n",
            " 68   313_home_deliveries                                         object \n",
            " 69   314_reception_delivery_packages                             object \n",
            " 70   42_willingness_share_inventory_data_suppliers               object \n",
            " 71   44_willingness_inventory_management_suppliers               object \n",
            " 72   45_willingness_reorder_suppliers                            object \n",
            " 73   46_willingness_reorder_suppliers_variety                    object \n",
            " 74   47_willingness_reorder_suppliers_lower_prices               object \n",
            " 75   43_willingness_share_sales_data_suppliers                   object \n",
            " 76   58_willingness_share_sales_data_mse                         object \n",
            " 77   59_willingness_share_sales_data_mse_better_prices           object \n",
            " 78   172_supplier_frequency                                      float64\n",
            " 79   185_place_orders_suppliers                                  object \n",
            " 80   53_special_conditions_suppliers                             object \n",
            " 81   278_credit_interest                                         object \n",
            " 82   192_procurement_planning_tools                              object \n",
            " 83   277_payment_method_suppliers                                object \n",
            " 84   56_procurement_changes_pandemic                             object \n",
            " 85   279_changes_procurement_pandemic                            object \n",
            " 86   157_frequency_organize_shelves                              object \n",
            " 87   158_charact_organize_products_on_shelves                    object \n",
            " 88   161_actions_stockouts                                       object \n",
            " 89   162_inventory_extra_space                                   object \n",
            " 90   163_number_high_perishable_products                         float64\n",
            " 91   249_technology_training                                     object \n",
            " 92   250_technology_investment_operations                        object \n",
            " 93   251_technology_investment_customers                         object \n",
            " 94   254_technology_roadmap                                      object \n",
            " 95   260_technology_scalable                                     object \n",
            " 96   261_technology_organization                                 object \n",
            " 97   262_technology_serve_customers                              object \n",
            " 98   263_technology_secure_sales                                 object \n",
            " 99   264_technology_budget                                       object \n",
            " 100  267_technology_investment_customer_preferences              object \n",
            " 101  234_willingness_participate_workshop                        object \n",
            " 102  318_shopkeeper_name                                         object \n",
            " 103  319_shopkeepers_last_name                                   object \n",
            " 104  236_whatsapp                                                float64\n",
            " 105  235_email                                                   object \n",
            "dtypes: float64(20), int64(2), object(84)\n",
            "memory usage: 273.4+ KB\n"
          ]
        }
      ]
    },
    {
      "cell_type": "code",
      "source": [
        "#aplicamos filtro de columnas para filtrar las columnas con variables numéricas (se descartaron las columnas que muestran números de telofóno y las coordenadas) \n",
        "Retailers_Filtrado1=Retailers_Filtrado.iloc[:,[5,6,13,14,16,21,22,29,31,33,42,45,49,51,56,57,58,59,60,78,90,104,105,]]#columnas no consecutivas\n",
        "Retailers_Filtrado1"
      ],
      "metadata": {
        "id": "qQGnh7Z_spFb"
      },
      "execution_count": null,
      "outputs": []
    },
    {
      "cell_type": "markdown",
      "source": [
        "**Método de cuartiles**"
      ],
      "metadata": {
        "id": "RuPW0xNOvDiv"
      }
    },
    {
      "cell_type": "code",
      "source": [
        "#Método aplicando Cuartiles. Encuentro cuartiles 0.25 y 0.75\n",
        "y=Retailers_Filtrado1\n",
        "\n",
        "percentile25=y.quantile(0.25) #Q1\n",
        "percentile75=y.quantile(0.75) #Q3\n",
        "iqr= percentile75 - percentile25\n",
        "\n",
        "Limite_Superior_iqr= percentile75 + 1.5*iqr\n",
        "Limite_Inferior_iqr= percentile25 - 1.5*iqr\n",
        "print(\"Limite superior permitido\", Limite_Superior_iqr)\n",
        "print(\"Limite inferior permitido\", Limite_Inferior_iqr)"
      ],
      "metadata": {
        "id": "BW00UUlkGg8o"
      },
      "execution_count": null,
      "outputs": []
    },
    {
      "cell_type": "code",
      "source": [
        "#Encontramos Outliers del Dataframe\n",
        "outliers_iqr= Retailers_Filtrado1[(y>Limite_Superior_iqr)|(y<Limite_Inferior_iqr)]\n",
        "outliers_iqr"
      ],
      "metadata": {
        "id": "QUfmECLlGw5k"
      },
      "execution_count": null,
      "outputs": []
    },
    {
      "cell_type": "code",
      "source": [
        "#Obtenemos datos limpios del Dataframe\n",
        "data3_iqr= Retailers_Filtrado1[(y<=Limite_Superior_iqr)&(y>=Limite_Inferior_iqr)]\n",
        "data3_iqr"
      ],
      "metadata": {
        "id": "DJ3bw-jjICzY"
      },
      "execution_count": null,
      "outputs": []
    },
    {
      "cell_type": "code",
      "source": [
        "#Corroboramos valores nulos del dataframe LIMPIO\n",
        "valores_nulos=data3_iqr.isnull().sum()\n",
        "valores_nulos"
      ],
      "metadata": {
        "id": "MA8EqiyCIts_"
      },
      "execution_count": null,
      "outputs": []
    },
    {
      "cell_type": "code",
      "source": [
        "#Reemplazamos valores atípicos (nulos) del dataframe con \"mean\"\n",
        "#Realizamos una copia del dataframe\n",
        "data4_iqr=data3_iqr.copy()\n",
        "data4_iqr=data4_iqr.fillna(round(data3_iqr.mean(),1))\n",
        "data4_iqr"
      ],
      "metadata": {
        "id": "bj7KkONDI0NE",
        "outputId": "88dc4a3d-84d9-493a-a810-552353aac7d3",
        "colab": {
          "base_uri": "https://localhost:8080/",
          "height": 488
        }
      },
      "execution_count": 22,
      "outputs": [
        {
          "output_type": "execute_result",
          "data": {
            "text/plain": [
              "     _latitude  _longitude  97_number_of_customers_in_store  \\\n",
              "0    19.043965  -98.201379                              1.0   \n",
              "1    19.043975  -98.201696                              2.0   \n",
              "2    19.043300  -98.196447                              2.0   \n",
              "3    19.040570  -98.197072                              1.0   \n",
              "4    19.043674  -98.201134                              3.0   \n",
              "..         ...         ...                              ...   \n",
              "325  19.043188  -98.194174                              0.0   \n",
              "326  19.043115  -98.194066                              1.0   \n",
              "327  19.042809  -98.193439                              3.0   \n",
              "328  19.042558  -98.193818                              0.0   \n",
              "329  19.042823  -98.193735                              1.0   \n",
              "\n",
              "     268_number_fridges  104_how_many_shelves_does_the_micro_retailer_have  \\\n",
              "0                   3.0                                                3.0   \n",
              "1                   0.0                                                0.0   \n",
              "2                   0.0                                                0.0   \n",
              "3                   0.0                                                0.0   \n",
              "4                   2.0                                                3.0   \n",
              "..                  ...                                                ...   \n",
              "325                 1.0                                                7.0   \n",
              "326                 0.0                                                5.0   \n",
              "327                 1.0                                                1.0   \n",
              "328                 1.0                                                1.0   \n",
              "329                 3.0                                                1.0   \n",
              "\n",
              "     2_current_permanent_employees  4_number_permanent_employees_last_year  \\\n",
              "0                              2.0                                     1.5   \n",
              "1                              0.0                                     0.0   \n",
              "2                              0.0                                     0.0   \n",
              "3                              0.0                                     0.0   \n",
              "4                              1.3                                     1.5   \n",
              "..                             ...                                     ...   \n",
              "325                            1.3                                     2.0   \n",
              "326                            1.3                                     2.0   \n",
              "327                            1.3                                     2.0   \n",
              "328                            1.3                                     2.0   \n",
              "329                            1.3                                     2.0   \n",
              "\n",
              "     103_number_own_fridges  145_number_direct_competitors  24_burnout  ...  \\\n",
              "0                       3.0                            5.0         2.0  ...   \n",
              "1                       4.0                           10.0         3.0  ...   \n",
              "2                       4.0                           10.0         3.0  ...   \n",
              "3                       4.0                           10.0         3.0  ...   \n",
              "4                       4.0                            3.0         3.0  ...   \n",
              "..                      ...                            ...         ...  ...   \n",
              "325                     2.0                            5.0         7.0  ...   \n",
              "326                     2.0                            5.0         7.0  ...   \n",
              "327                     2.0                            5.0         7.0  ...   \n",
              "328                     2.0                            5.0         7.0  ...   \n",
              "329                     2.0                            5.0         7.0  ...   \n",
              "\n",
              "     36_credit_default_rate  315_frequency_topups  \\\n",
              "0                       1.0                   3.3   \n",
              "1                       1.0                   7.0   \n",
              "2                       1.0                   7.0   \n",
              "3                       1.0                   7.0   \n",
              "4                       1.0                   7.0   \n",
              "..                      ...                   ...   \n",
              "325                     0.0                   1.0   \n",
              "326                     0.0                   1.0   \n",
              "327                     0.0                   1.0   \n",
              "328                     0.0                   1.0   \n",
              "329                     0.0                   1.0   \n",
              "\n",
              "     316_frequency_utility_bills  317_home_deliveries  \\\n",
              "0                            2.0                  4.0   \n",
              "1                            2.0                  4.0   \n",
              "2                            2.0                  4.0   \n",
              "3                            2.0                  4.0   \n",
              "4                            2.0                  4.0   \n",
              "..                           ...                  ...   \n",
              "325                          7.0                  8.0   \n",
              "326                          7.0                  8.0   \n",
              "327                          7.0                  8.0   \n",
              "328                          7.0                  8.0   \n",
              "329                          7.0                  8.0   \n",
              "\n",
              "     62_frequency_only_services  78_number_home_deliveries_week  \\\n",
              "0                          10.0                             3.0   \n",
              "1                           0.0                             3.0   \n",
              "2                           0.0                             3.0   \n",
              "3                           0.0                             3.0   \n",
              "4                           0.0                             3.0   \n",
              "..                          ...                             ...   \n",
              "325                         1.0                             1.0   \n",
              "326                         1.0                             1.0   \n",
              "327                         1.0                             1.0   \n",
              "328                         1.0                             1.0   \n",
              "329                         1.0                             1.0   \n",
              "\n",
              "     172_supplier_frequency  163_number_high_perishable_products  \\\n",
              "0                       2.0                                 10.0   \n",
              "1                       1.0                                  0.0   \n",
              "2                       1.0                                  0.0   \n",
              "3                       1.0                                  0.0   \n",
              "4                       3.0                                 30.0   \n",
              "..                      ...                                  ...   \n",
              "325                     5.0                                  0.0   \n",
              "326                     5.0                                  0.0   \n",
              "327                     5.0                                  0.0   \n",
              "328                     5.0                                  0.0   \n",
              "329                     5.0                                  0.0   \n",
              "\n",
              "     236_whatsapp  235_email  \n",
              "0    2.226697e+09        NaN  \n",
              "1    2.226697e+09        NaN  \n",
              "2    2.226697e+09        NaN  \n",
              "3    2.226697e+09        NaN  \n",
              "4    2.226697e+09        NaN  \n",
              "..            ...        ...  \n",
              "325  2.212380e+09        NaN  \n",
              "326  2.212380e+09        NaN  \n",
              "327  2.212380e+09        NaN  \n",
              "328  2.212380e+09        NaN  \n",
              "329  2.212380e+09        NaN  \n",
              "\n",
              "[330 rows x 23 columns]"
            ],
            "text/html": [
              "\n",
              "  <div id=\"df-e8085bec-5294-4bbb-9b0e-e25d5ef2bb75\">\n",
              "    <div class=\"colab-df-container\">\n",
              "      <div>\n",
              "<style scoped>\n",
              "    .dataframe tbody tr th:only-of-type {\n",
              "        vertical-align: middle;\n",
              "    }\n",
              "\n",
              "    .dataframe tbody tr th {\n",
              "        vertical-align: top;\n",
              "    }\n",
              "\n",
              "    .dataframe thead th {\n",
              "        text-align: right;\n",
              "    }\n",
              "</style>\n",
              "<table border=\"1\" class=\"dataframe\">\n",
              "  <thead>\n",
              "    <tr style=\"text-align: right;\">\n",
              "      <th></th>\n",
              "      <th>_latitude</th>\n",
              "      <th>_longitude</th>\n",
              "      <th>97_number_of_customers_in_store</th>\n",
              "      <th>268_number_fridges</th>\n",
              "      <th>104_how_many_shelves_does_the_micro_retailer_have</th>\n",
              "      <th>2_current_permanent_employees</th>\n",
              "      <th>4_number_permanent_employees_last_year</th>\n",
              "      <th>103_number_own_fridges</th>\n",
              "      <th>145_number_direct_competitors</th>\n",
              "      <th>24_burnout</th>\n",
              "      <th>...</th>\n",
              "      <th>36_credit_default_rate</th>\n",
              "      <th>315_frequency_topups</th>\n",
              "      <th>316_frequency_utility_bills</th>\n",
              "      <th>317_home_deliveries</th>\n",
              "      <th>62_frequency_only_services</th>\n",
              "      <th>78_number_home_deliveries_week</th>\n",
              "      <th>172_supplier_frequency</th>\n",
              "      <th>163_number_high_perishable_products</th>\n",
              "      <th>236_whatsapp</th>\n",
              "      <th>235_email</th>\n",
              "    </tr>\n",
              "  </thead>\n",
              "  <tbody>\n",
              "    <tr>\n",
              "      <th>0</th>\n",
              "      <td>19.043965</td>\n",
              "      <td>-98.201379</td>\n",
              "      <td>1.0</td>\n",
              "      <td>3.0</td>\n",
              "      <td>3.0</td>\n",
              "      <td>2.0</td>\n",
              "      <td>1.5</td>\n",
              "      <td>3.0</td>\n",
              "      <td>5.0</td>\n",
              "      <td>2.0</td>\n",
              "      <td>...</td>\n",
              "      <td>1.0</td>\n",
              "      <td>3.3</td>\n",
              "      <td>2.0</td>\n",
              "      <td>4.0</td>\n",
              "      <td>10.0</td>\n",
              "      <td>3.0</td>\n",
              "      <td>2.0</td>\n",
              "      <td>10.0</td>\n",
              "      <td>2.226697e+09</td>\n",
              "      <td>NaN</td>\n",
              "    </tr>\n",
              "    <tr>\n",
              "      <th>1</th>\n",
              "      <td>19.043975</td>\n",
              "      <td>-98.201696</td>\n",
              "      <td>2.0</td>\n",
              "      <td>0.0</td>\n",
              "      <td>0.0</td>\n",
              "      <td>0.0</td>\n",
              "      <td>0.0</td>\n",
              "      <td>4.0</td>\n",
              "      <td>10.0</td>\n",
              "      <td>3.0</td>\n",
              "      <td>...</td>\n",
              "      <td>1.0</td>\n",
              "      <td>7.0</td>\n",
              "      <td>2.0</td>\n",
              "      <td>4.0</td>\n",
              "      <td>0.0</td>\n",
              "      <td>3.0</td>\n",
              "      <td>1.0</td>\n",
              "      <td>0.0</td>\n",
              "      <td>2.226697e+09</td>\n",
              "      <td>NaN</td>\n",
              "    </tr>\n",
              "    <tr>\n",
              "      <th>2</th>\n",
              "      <td>19.043300</td>\n",
              "      <td>-98.196447</td>\n",
              "      <td>2.0</td>\n",
              "      <td>0.0</td>\n",
              "      <td>0.0</td>\n",
              "      <td>0.0</td>\n",
              "      <td>0.0</td>\n",
              "      <td>4.0</td>\n",
              "      <td>10.0</td>\n",
              "      <td>3.0</td>\n",
              "      <td>...</td>\n",
              "      <td>1.0</td>\n",
              "      <td>7.0</td>\n",
              "      <td>2.0</td>\n",
              "      <td>4.0</td>\n",
              "      <td>0.0</td>\n",
              "      <td>3.0</td>\n",
              "      <td>1.0</td>\n",
              "      <td>0.0</td>\n",
              "      <td>2.226697e+09</td>\n",
              "      <td>NaN</td>\n",
              "    </tr>\n",
              "    <tr>\n",
              "      <th>3</th>\n",
              "      <td>19.040570</td>\n",
              "      <td>-98.197072</td>\n",
              "      <td>1.0</td>\n",
              "      <td>0.0</td>\n",
              "      <td>0.0</td>\n",
              "      <td>0.0</td>\n",
              "      <td>0.0</td>\n",
              "      <td>4.0</td>\n",
              "      <td>10.0</td>\n",
              "      <td>3.0</td>\n",
              "      <td>...</td>\n",
              "      <td>1.0</td>\n",
              "      <td>7.0</td>\n",
              "      <td>2.0</td>\n",
              "      <td>4.0</td>\n",
              "      <td>0.0</td>\n",
              "      <td>3.0</td>\n",
              "      <td>1.0</td>\n",
              "      <td>0.0</td>\n",
              "      <td>2.226697e+09</td>\n",
              "      <td>NaN</td>\n",
              "    </tr>\n",
              "    <tr>\n",
              "      <th>4</th>\n",
              "      <td>19.043674</td>\n",
              "      <td>-98.201134</td>\n",
              "      <td>3.0</td>\n",
              "      <td>2.0</td>\n",
              "      <td>3.0</td>\n",
              "      <td>1.3</td>\n",
              "      <td>1.5</td>\n",
              "      <td>4.0</td>\n",
              "      <td>3.0</td>\n",
              "      <td>3.0</td>\n",
              "      <td>...</td>\n",
              "      <td>1.0</td>\n",
              "      <td>7.0</td>\n",
              "      <td>2.0</td>\n",
              "      <td>4.0</td>\n",
              "      <td>0.0</td>\n",
              "      <td>3.0</td>\n",
              "      <td>3.0</td>\n",
              "      <td>30.0</td>\n",
              "      <td>2.226697e+09</td>\n",
              "      <td>NaN</td>\n",
              "    </tr>\n",
              "    <tr>\n",
              "      <th>...</th>\n",
              "      <td>...</td>\n",
              "      <td>...</td>\n",
              "      <td>...</td>\n",
              "      <td>...</td>\n",
              "      <td>...</td>\n",
              "      <td>...</td>\n",
              "      <td>...</td>\n",
              "      <td>...</td>\n",
              "      <td>...</td>\n",
              "      <td>...</td>\n",
              "      <td>...</td>\n",
              "      <td>...</td>\n",
              "      <td>...</td>\n",
              "      <td>...</td>\n",
              "      <td>...</td>\n",
              "      <td>...</td>\n",
              "      <td>...</td>\n",
              "      <td>...</td>\n",
              "      <td>...</td>\n",
              "      <td>...</td>\n",
              "      <td>...</td>\n",
              "    </tr>\n",
              "    <tr>\n",
              "      <th>325</th>\n",
              "      <td>19.043188</td>\n",
              "      <td>-98.194174</td>\n",
              "      <td>0.0</td>\n",
              "      <td>1.0</td>\n",
              "      <td>7.0</td>\n",
              "      <td>1.3</td>\n",
              "      <td>2.0</td>\n",
              "      <td>2.0</td>\n",
              "      <td>5.0</td>\n",
              "      <td>7.0</td>\n",
              "      <td>...</td>\n",
              "      <td>0.0</td>\n",
              "      <td>1.0</td>\n",
              "      <td>7.0</td>\n",
              "      <td>8.0</td>\n",
              "      <td>1.0</td>\n",
              "      <td>1.0</td>\n",
              "      <td>5.0</td>\n",
              "      <td>0.0</td>\n",
              "      <td>2.212380e+09</td>\n",
              "      <td>NaN</td>\n",
              "    </tr>\n",
              "    <tr>\n",
              "      <th>326</th>\n",
              "      <td>19.043115</td>\n",
              "      <td>-98.194066</td>\n",
              "      <td>1.0</td>\n",
              "      <td>0.0</td>\n",
              "      <td>5.0</td>\n",
              "      <td>1.3</td>\n",
              "      <td>2.0</td>\n",
              "      <td>2.0</td>\n",
              "      <td>5.0</td>\n",
              "      <td>7.0</td>\n",
              "      <td>...</td>\n",
              "      <td>0.0</td>\n",
              "      <td>1.0</td>\n",
              "      <td>7.0</td>\n",
              "      <td>8.0</td>\n",
              "      <td>1.0</td>\n",
              "      <td>1.0</td>\n",
              "      <td>5.0</td>\n",
              "      <td>0.0</td>\n",
              "      <td>2.212380e+09</td>\n",
              "      <td>NaN</td>\n",
              "    </tr>\n",
              "    <tr>\n",
              "      <th>327</th>\n",
              "      <td>19.042809</td>\n",
              "      <td>-98.193439</td>\n",
              "      <td>3.0</td>\n",
              "      <td>1.0</td>\n",
              "      <td>1.0</td>\n",
              "      <td>1.3</td>\n",
              "      <td>2.0</td>\n",
              "      <td>2.0</td>\n",
              "      <td>5.0</td>\n",
              "      <td>7.0</td>\n",
              "      <td>...</td>\n",
              "      <td>0.0</td>\n",
              "      <td>1.0</td>\n",
              "      <td>7.0</td>\n",
              "      <td>8.0</td>\n",
              "      <td>1.0</td>\n",
              "      <td>1.0</td>\n",
              "      <td>5.0</td>\n",
              "      <td>0.0</td>\n",
              "      <td>2.212380e+09</td>\n",
              "      <td>NaN</td>\n",
              "    </tr>\n",
              "    <tr>\n",
              "      <th>328</th>\n",
              "      <td>19.042558</td>\n",
              "      <td>-98.193818</td>\n",
              "      <td>0.0</td>\n",
              "      <td>1.0</td>\n",
              "      <td>1.0</td>\n",
              "      <td>1.3</td>\n",
              "      <td>2.0</td>\n",
              "      <td>2.0</td>\n",
              "      <td>5.0</td>\n",
              "      <td>7.0</td>\n",
              "      <td>...</td>\n",
              "      <td>0.0</td>\n",
              "      <td>1.0</td>\n",
              "      <td>7.0</td>\n",
              "      <td>8.0</td>\n",
              "      <td>1.0</td>\n",
              "      <td>1.0</td>\n",
              "      <td>5.0</td>\n",
              "      <td>0.0</td>\n",
              "      <td>2.212380e+09</td>\n",
              "      <td>NaN</td>\n",
              "    </tr>\n",
              "    <tr>\n",
              "      <th>329</th>\n",
              "      <td>19.042823</td>\n",
              "      <td>-98.193735</td>\n",
              "      <td>1.0</td>\n",
              "      <td>3.0</td>\n",
              "      <td>1.0</td>\n",
              "      <td>1.3</td>\n",
              "      <td>2.0</td>\n",
              "      <td>2.0</td>\n",
              "      <td>5.0</td>\n",
              "      <td>7.0</td>\n",
              "      <td>...</td>\n",
              "      <td>0.0</td>\n",
              "      <td>1.0</td>\n",
              "      <td>7.0</td>\n",
              "      <td>8.0</td>\n",
              "      <td>1.0</td>\n",
              "      <td>1.0</td>\n",
              "      <td>5.0</td>\n",
              "      <td>0.0</td>\n",
              "      <td>2.212380e+09</td>\n",
              "      <td>NaN</td>\n",
              "    </tr>\n",
              "  </tbody>\n",
              "</table>\n",
              "<p>330 rows × 23 columns</p>\n",
              "</div>\n",
              "      <button class=\"colab-df-convert\" onclick=\"convertToInteractive('df-e8085bec-5294-4bbb-9b0e-e25d5ef2bb75')\"\n",
              "              title=\"Convert this dataframe to an interactive table.\"\n",
              "              style=\"display:none;\">\n",
              "        \n",
              "  <svg xmlns=\"http://www.w3.org/2000/svg\" height=\"24px\"viewBox=\"0 0 24 24\"\n",
              "       width=\"24px\">\n",
              "    <path d=\"M0 0h24v24H0V0z\" fill=\"none\"/>\n",
              "    <path d=\"M18.56 5.44l.94 2.06.94-2.06 2.06-.94-2.06-.94-.94-2.06-.94 2.06-2.06.94zm-11 1L8.5 8.5l.94-2.06 2.06-.94-2.06-.94L8.5 2.5l-.94 2.06-2.06.94zm10 10l.94 2.06.94-2.06 2.06-.94-2.06-.94-.94-2.06-.94 2.06-2.06.94z\"/><path d=\"M17.41 7.96l-1.37-1.37c-.4-.4-.92-.59-1.43-.59-.52 0-1.04.2-1.43.59L10.3 9.45l-7.72 7.72c-.78.78-.78 2.05 0 2.83L4 21.41c.39.39.9.59 1.41.59.51 0 1.02-.2 1.41-.59l7.78-7.78 2.81-2.81c.8-.78.8-2.07 0-2.86zM5.41 20L4 18.59l7.72-7.72 1.47 1.35L5.41 20z\"/>\n",
              "  </svg>\n",
              "      </button>\n",
              "      \n",
              "  <style>\n",
              "    .colab-df-container {\n",
              "      display:flex;\n",
              "      flex-wrap:wrap;\n",
              "      gap: 12px;\n",
              "    }\n",
              "\n",
              "    .colab-df-convert {\n",
              "      background-color: #E8F0FE;\n",
              "      border: none;\n",
              "      border-radius: 50%;\n",
              "      cursor: pointer;\n",
              "      display: none;\n",
              "      fill: #1967D2;\n",
              "      height: 32px;\n",
              "      padding: 0 0 0 0;\n",
              "      width: 32px;\n",
              "    }\n",
              "\n",
              "    .colab-df-convert:hover {\n",
              "      background-color: #E2EBFA;\n",
              "      box-shadow: 0px 1px 2px rgba(60, 64, 67, 0.3), 0px 1px 3px 1px rgba(60, 64, 67, 0.15);\n",
              "      fill: #174EA6;\n",
              "    }\n",
              "\n",
              "    [theme=dark] .colab-df-convert {\n",
              "      background-color: #3B4455;\n",
              "      fill: #D2E3FC;\n",
              "    }\n",
              "\n",
              "    [theme=dark] .colab-df-convert:hover {\n",
              "      background-color: #434B5C;\n",
              "      box-shadow: 0px 1px 3px 1px rgba(0, 0, 0, 0.15);\n",
              "      filter: drop-shadow(0px 1px 2px rgba(0, 0, 0, 0.3));\n",
              "      fill: #FFFFFF;\n",
              "    }\n",
              "  </style>\n",
              "\n",
              "      <script>\n",
              "        const buttonEl =\n",
              "          document.querySelector('#df-e8085bec-5294-4bbb-9b0e-e25d5ef2bb75 button.colab-df-convert');\n",
              "        buttonEl.style.display =\n",
              "          google.colab.kernel.accessAllowed ? 'block' : 'none';\n",
              "\n",
              "        async function convertToInteractive(key) {\n",
              "          const element = document.querySelector('#df-e8085bec-5294-4bbb-9b0e-e25d5ef2bb75');\n",
              "          const dataTable =\n",
              "            await google.colab.kernel.invokeFunction('convertToInteractive',\n",
              "                                                     [key], {});\n",
              "          if (!dataTable) return;\n",
              "\n",
              "          const docLinkHtml = 'Like what you see? Visit the ' +\n",
              "            '<a target=\"_blank\" href=https://colab.research.google.com/notebooks/data_table.ipynb>data table notebook</a>'\n",
              "            + ' to learn more about interactive tables.';\n",
              "          element.innerHTML = '';\n",
              "          dataTable['output_type'] = 'display_data';\n",
              "          await google.colab.output.renderOutput(dataTable, element);\n",
              "          const docLink = document.createElement('div');\n",
              "          docLink.innerHTML = docLinkHtml;\n",
              "          element.appendChild(docLink);\n",
              "        }\n",
              "      </script>\n",
              "    </div>\n",
              "  </div>\n",
              "  "
            ]
          },
          "metadata": {},
          "execution_count": 22
        }
      ]
    },
    {
      "cell_type": "code",
      "source": [
        "Retailers_Filtrado2=data4_iqr.copy()"
      ],
      "metadata": {
        "id": "WOG4QxeyJF2g"
      },
      "execution_count": 23,
      "outputs": []
    },
    {
      "cell_type": "code",
      "source": [
        "#convertir a archivo xlsx\n",
        "Retailers_Filtrado2.to_excel(\"Retailers_Sin_Outliers.xlsx\")"
      ],
      "metadata": {
        "id": "CAXUqrQmtmwo"
      },
      "execution_count": 24,
      "outputs": []
    },
    {
      "cell_type": "code",
      "source": [
        "#descargar archivo filtrado en xlsx\n",
        "from google.colab import files\n",
        "files.download(\"Retailers_Sin_Outliers.xlsx\")"
      ],
      "metadata": {
        "id": "FoNGzV2rtxSs",
        "outputId": "a6c9be07-b8af-4903-8e24-128a65692237",
        "colab": {
          "base_uri": "https://localhost:8080/",
          "height": 17
        }
      },
      "execution_count": null,
      "outputs": [
        {
          "output_type": "display_data",
          "data": {
            "text/plain": [
              "<IPython.core.display.Javascript object>"
            ],
            "application/javascript": [
              "\n",
              "    async function download(id, filename, size) {\n",
              "      if (!google.colab.kernel.accessAllowed) {\n",
              "        return;\n",
              "      }\n",
              "      const div = document.createElement('div');\n",
              "      const label = document.createElement('label');\n",
              "      label.textContent = `Downloading \"${filename}\": `;\n",
              "      div.appendChild(label);\n",
              "      const progress = document.createElement('progress');\n",
              "      progress.max = size;\n",
              "      div.appendChild(progress);\n",
              "      document.body.appendChild(div);\n",
              "\n",
              "      const buffers = [];\n",
              "      let downloaded = 0;\n",
              "\n",
              "      const channel = await google.colab.kernel.comms.open(id);\n",
              "      // Send a message to notify the kernel that we're ready.\n",
              "      channel.send({})\n",
              "\n",
              "      for await (const message of channel.messages) {\n",
              "        // Send a message to notify the kernel that we're ready.\n",
              "        channel.send({})\n",
              "        if (message.buffers) {\n",
              "          for (const buffer of message.buffers) {\n",
              "            buffers.push(buffer);\n",
              "            downloaded += buffer.byteLength;\n",
              "            progress.value = downloaded;\n",
              "          }\n",
              "        }\n",
              "      }\n",
              "      const blob = new Blob(buffers, {type: 'application/binary'});\n",
              "      const a = document.createElement('a');\n",
              "      a.href = window.URL.createObjectURL(blob);\n",
              "      a.download = filename;\n",
              "      div.appendChild(a);\n",
              "      a.click();\n",
              "      div.remove();\n",
              "    }\n",
              "  "
            ]
          },
          "metadata": {}
        },
        {
          "output_type": "display_data",
          "data": {
            "text/plain": [
              "<IPython.core.display.Javascript object>"
            ],
            "application/javascript": [
              "download(\"download_999603b1-2b6c-4c6c-a169-4e5e7179da38\", \"Retailers_Sin_Outliers.xlsx\", 15913)"
            ]
          },
          "metadata": {}
        }
      ]
    }
  ]
}